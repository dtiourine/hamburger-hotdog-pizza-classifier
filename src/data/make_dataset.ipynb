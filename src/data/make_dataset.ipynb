{
 "cells": [
  {
   "cell_type": "code",
   "id": "initial_id",
   "metadata": {
    "collapsed": true,
    "ExecuteTime": {
     "end_time": "2024-06-21T21:24:17.647226Z",
     "start_time": "2024-06-21T21:24:17.625451Z"
    }
   },
   "source": [
    "#import torch\n",
    "#import torchvision\n",
    "\n",
    "#assert int(torch.__version__.split(\".\")[1]) >= 11\n",
    "#assert int(torchvision.__version__.split(\".\")[1]) >= 11\n",
    "\n",
    "#import torchvision.datasets as datasets\n",
    "#import torchvision.transforms as transforms\n",
    "from src.config import PROCESSED_DATA_DIR, RAW_DATA_DIR\n",
    "\n",
    "# Setup data directory\n",
    "import pathlib\n",
    "data_dir = pathlib.Path(\"../../data\").resolve()   \n",
    "print(data_dir)\n",
    "print(PROCESSED_DATA_DIR)"
   ],
   "execution_count": 4,
   "outputs": []
  },
  {
   "metadata": {
    "ExecuteTime": {
     "end_time": "2024-06-06T15:42:20.673074Z",
     "start_time": "2024-06-06T15:26:21.191697Z"
    }
   },
   "cell_type": "code",
   "source": [
    "# Get training data\n",
    "#train_data = datasets.Food101(root=data_dir,\n",
    "  #                            split=\"train\",\n",
    "                              # transform=transforms.ToTensor(),\n",
    " #                             download=True)\n",
    "\n",
    "# Get testing data\n",
    "#test_data = datasets.Food101(root=data_dir,\n",
    " #                            split=\"test\",\n",
    "                             # transform=transforms.ToTensor(),\n",
    " #                            download=True)"
   ],
   "id": "d3db786b428381be",
   "execution_count": 3,
   "outputs": []
  },
  {
   "metadata": {
    "ExecuteTime": {
     "end_time": "2024-06-21T21:23:53.469380Z",
     "start_time": "2024-06-21T21:23:53.460667Z"
    }
   },
   "cell_type": "code",
   "source": [
    "print(data_dir)\n",
    "print(PROCESSED_DATA_DIR)"
   ],
   "id": "13252c0a814cf727",
   "execution_count": 2,
   "outputs": []
  },
  {
   "metadata": {
    "ExecuteTime": {
     "end_time": "2024-06-06T16:37:45.145282Z",
     "start_time": "2024-06-06T16:37:45.096223Z"
    }
   },
   "cell_type": "code",
   "source": [
    "# Get random 10% of training images\n",
    "import random\n",
    "\n",
    "# Setup data paths\n",
    "data_path = data_dir / \"food-101\" / \"images\"\n",
    "target_classes = [\"pizza\", \"hot_dog\", \"hamburger\"]\n",
    "\n",
    "# Change amount of data to get (e.g. 0.1 = random 10%, 0.2 = random 20%)\n",
    "amount_to_get = 1\n",
    "\n",
    "# Create function to separate a random amount of data\n",
    "def get_subset(image_path=data_path,\n",
    "               data_splits=[\"train\", \"test\"], \n",
    "               target_classes=[\"pizza\", \"hot_dog\", \"hamburger\"],\n",
    "               amount=0.1,\n",
    "               seed=42):\n",
    "    random.seed(42)\n",
    "    label_splits = {}\n",
    "    \n",
    "    # Get labels\n",
    "    for data_split in data_splits:\n",
    "        print(f\"[INFO] Creating image split for: {data_split}...\")\n",
    "        label_path = data_dir / \"food-101\" / \"meta\" / f\"{data_split}.txt\"\n",
    "        with open(label_path, \"r\") as f:\n",
    "            labels = [line.strip(\"\\n\") for line in f.readlines() if line.split(\"/\")[0] in target_classes] \n",
    "        \n",
    "        # Get random subset of target classes image ID's\n",
    "        number_to_sample = round(amount * len(labels))\n",
    "        print(f\"[INFO] Getting random subset of {number_to_sample} images for {data_split}...\")\n",
    "        sampled_images = random.sample(labels, k=number_to_sample)\n",
    "        \n",
    "        # Apply full paths\n",
    "        image_paths = [pathlib.Path(str(image_path / sample_image) + \".jpg\") for sample_image in sampled_images]\n",
    "        label_splits[data_split] = image_paths\n",
    "    return label_splits\n",
    "        \n",
    "label_splits = get_subset(amount=amount_to_get)\n",
    "label_splits[\"train\"][:10]"
   ],
   "id": "8a3dda25cb2a678a",
   "execution_count": 12,
   "outputs": []
  },
  {
   "metadata": {
    "ExecuteTime": {
     "end_time": "2024-06-06T16:37:45.874379Z",
     "start_time": "2024-06-06T16:37:45.870327Z"
    }
   },
   "cell_type": "code",
   "source": [
    "# Create target directory path\n",
    "target_dir_name = f\"../../data/raw/pizza_hamburger_hotdog_{str(int(amount_to_get*100))}_percent\"\n",
    "print(f\"Creating directory: '{target_dir_name}'\")\n",
    "\n",
    "# Setup the directories\n",
    "target_dir = pathlib.Path(target_dir_name)\n",
    "\n",
    "# Make the directories\n",
    "target_dir.mkdir(parents=True, exist_ok=True)"
   ],
   "id": "5bd6c79fc404257d",
   "execution_count": 13,
   "outputs": []
  },
  {
   "metadata": {
    "ExecuteTime": {
     "end_time": "2024-06-06T16:37:47.656537Z",
     "start_time": "2024-06-06T16:37:46.349149Z"
    }
   },
   "cell_type": "code",
   "source": [
    "import shutil\n",
    "\n",
    "for image_split in label_splits.keys():\n",
    "    for image_path in label_splits[str(image_split)]:\n",
    "        dest_dir = target_dir / image_split / image_path.parent.stem / image_path.name\n",
    "        if not dest_dir.parent.is_dir():\n",
    "            dest_dir.parent.mkdir(parents=True, exist_ok=True)\n",
    "        print(f\"[INFO] Copying {image_path} to {dest_dir}...\")\n",
    "        shutil.copy2(image_path, dest_dir)"
   ],
   "id": "aecafd03a44f248e",
   "execution_count": 14,
   "outputs": []
  },
  {
   "metadata": {},
   "cell_type": "code",
   "execution_count": null,
   "source": "",
   "id": "6791c9b7a8bf499c",
   "outputs": []
  }
 ],
 "metadata": {
  "kernelspec": {
   "display_name": "Python 3",
   "language": "python",
   "name": "python3"
  },
  "language_info": {
   "codemirror_mode": {
    "name": "ipython",
    "version": 2
   },
   "file_extension": ".py",
   "mimetype": "text/x-python",
   "name": "python",
   "nbconvert_exporter": "python",
   "pygments_lexer": "ipython2",
   "version": "2.7.6"
  }
 },
 "nbformat": 4,
 "nbformat_minor": 5
}
