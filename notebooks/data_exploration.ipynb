{
 "cells": [
  {
   "metadata": {},
   "cell_type": "markdown",
   "source": "# Data Preparation and Exploration",
   "id": "f2f0daef443b2342"
  },
  {
   "metadata": {
    "ExecuteTime": {
     "end_time": "2024-06-06T19:48:24.279267Z",
     "start_time": "2024-06-06T19:48:24.276201Z"
    }
   },
   "cell_type": "code",
   "source": [
    "import os\n",
    "import random\n",
    "from PIL import Image\n",
    "\n",
    "from torchvision import datasets, transforms\n",
    "import matplotlib.pyplot as plt\n",
    "from torchvision.datasets import ImageFolder\n",
    "from torch.utils.data import DataLoader\n",
    "\n",
    "from src.config import PROCESSED_DATA_DIR, RAW_DATA_DIR\n",
    "image_path = RAW_DATA_DIR\n",
    "\n",
    "BATCH_SIZE = 32"
   ],
   "id": "72f779eb90bc91ec",
   "execution_count": 356,
   "outputs": []
  },
  {
   "metadata": {
    "ExecuteTime": {
     "end_time": "2024-06-06T17:49:13.599015Z",
     "start_time": "2024-06-06T17:49:13.592809Z"
    }
   },
   "cell_type": "code",
   "source": [
    "def walk_through_directory(directory):\n",
    "    \"\"\"Walks through dir_path returning its contents.\"\"\"\n",
    "    for dirpath, dirnames, filenames in os.walk(directory):\n",
    "        print(f\"There are {len(dirnames)} directories and {len(filenames)} images in {dirpath}\")"
   ],
   "id": "9ce1ce5a73a6ff8b",
   "execution_count": 312,
   "outputs": []
  },
  {
   "metadata": {
    "ExecuteTime": {
     "end_time": "2024-06-06T17:49:13.607854Z",
     "start_time": "2024-06-06T17:49:13.599015Z"
    }
   },
   "cell_type": "code",
   "source": "walk_through_directory(image_path)",
   "id": "d565cad543d86574",
   "execution_count": 313,
   "outputs": []
  },
  {
   "metadata": {
    "ExecuteTime": {
     "end_time": "2024-06-06T17:49:13.611575Z",
     "start_time": "2024-06-06T17:49:13.608858Z"
    }
   },
   "cell_type": "code",
   "source": [
    "# Setup train and testing paths\n",
    "train_dir = image_path / 'train'\n",
    "test_dir = image_path / 'test'\n",
    "test_dir, train_dir"
   ],
   "id": "9ff05994fbe8d425",
   "execution_count": 314,
   "outputs": []
  },
  {
   "metadata": {},
   "cell_type": "markdown",
   "source": [
    "## Step 2: Visualize Image\n",
    "\n",
    "Let's write some code to:\n",
    "1. Get all the image paths\n",
    "2. Pick a random image path using Python's random.choice()\n",
    "3. Get the image class name using `pathlib.Path.parent.stem`\n",
    "4. Since we're working with images, let's open the image with Python's PIL\n",
    "5. We'll then show the image and print metadata"
   ],
   "id": "68ec652596d49a8f"
  },
  {
   "metadata": {
    "ExecuteTime": {
     "end_time": "2024-06-06T17:49:13.647564Z",
     "start_time": "2024-06-06T17:49:13.612578Z"
    }
   },
   "cell_type": "code",
   "source": [
    "# 1. Get all image paths\n",
    "image_path_list = list(image_path.glob(\"*/*/*.jpg\"))\n",
    "\n",
    "# 2. Randomly select a random image from the image path \n",
    "random_image_path = random.choice(image_path_list)\n",
    "\n",
    "# 3. Get image class from path name\n",
    "image_class = random_image_path.parent.stem\n",
    "\n",
    "#4. Open image\n",
    "img = Image.open(random_image_path)\n",
    "\n",
    "#5. Print metadata\n",
    "print(f\"Random image path: {random_image_path}\")\n",
    "print(f\"Image class: {image_class}\")\n",
    "print(f\"Image size: {img.size}\")\n",
    "img"
   ],
   "id": "fd2d598b4d464e7c",
   "execution_count": 315,
   "outputs": []
  },
  {
   "metadata": {},
   "cell_type": "markdown",
   "source": [
    "## 3. Transforming Data\n",
    "\n",
    "Before we can use our image data with PyTorch:\n",
    "1. Turn your target data into tensors (in our case, numerical representation of our images).\n",
    "2. Turn it into a `torch.utils.data.Dataset`"
   ],
   "id": "b5a96dfa54849bfd"
  },
  {
   "metadata": {
    "ExecuteTime": {
     "end_time": "2024-06-06T18:39:56.209697Z",
     "start_time": "2024-06-06T18:39:56.207259Z"
    }
   },
   "cell_type": "code",
   "source": [
    "transform = transforms.Compose([\n",
    "    transforms.Resize((224, 224)),\n",
    "    transforms.RandomHorizontalFlip(),\n",
    "        transforms.ToTensor()\n",
    "])"
   ],
   "id": "8938d77f44677fd6",
   "execution_count": 323,
   "outputs": []
  },
  {
   "metadata": {
    "ExecuteTime": {
     "end_time": "2024-06-06T18:40:01.865581Z",
     "start_time": "2024-06-06T18:40:01.835542Z"
    }
   },
   "cell_type": "code",
   "source": "transform(img).shape",
   "id": "5f8c3576b393faa5",
   "execution_count": 324,
   "outputs": []
  },
  {
   "metadata": {
    "ExecuteTime": {
     "end_time": "2024-06-06T19:19:08.164656Z",
     "start_time": "2024-06-06T19:19:08.161288Z"
    }
   },
   "cell_type": "code",
   "source": "train_dir",
   "id": "314daf3f0b40a5a4",
   "execution_count": 336,
   "outputs": []
  },
  {
   "metadata": {
    "ExecuteTime": {
     "end_time": "2024-06-06T19:20:45.947527Z",
     "start_time": "2024-06-06T19:20:45.937043Z"
    }
   },
   "cell_type": "code",
   "source": [
    "train_data = ImageFolder(train_dir, transform=transform)\n",
    "test_data = ImageFolder(test_dir, transform=transform)\n"
   ],
   "id": "8018ea29c855adb7",
   "execution_count": 340,
   "outputs": []
  },
  {
   "metadata": {
    "ExecuteTime": {
     "end_time": "2024-06-06T19:26:23.987881Z",
     "start_time": "2024-06-06T19:26:23.984616Z"
    }
   },
   "cell_type": "code",
   "source": [
    "class_names = train_data.classes\n",
    "class_names\n",
    "class_names_to_idx = train_data.class_to_idx\n",
    "class_names_to_idx"
   ],
   "id": "586567f2493298e0",
   "execution_count": 344,
   "outputs": []
  },
  {
   "metadata": {
    "ExecuteTime": {
     "end_time": "2024-06-06T19:32:26.253352Z",
     "start_time": "2024-06-06T19:32:26.244516Z"
    }
   },
   "cell_type": "code",
   "source": [
    "random_index = random.randint(0, len(train_data))\n",
    "img, label = train_data[random_index]\n",
    "print(\"Label:\", class_names[label])\n",
    "img"
   ],
   "id": "af738a088b838fe3",
   "execution_count": 349,
   "outputs": []
  },
  {
   "metadata": {
    "ExecuteTime": {
     "end_time": "2024-06-06T19:48:28.665999Z",
     "start_time": "2024-06-06T19:48:28.661853Z"
    }
   },
   "cell_type": "code",
   "source": [
    "train_loader = DataLoader(train_data, batch_size=BATCH_SIZE, shuffle=True)\n",
    "test_loader = DataLoader(test_data, batch_size=BATCH_SIZE, shuffle=False)\n",
    "\n",
    "train_loader, test_loader"
   ],
   "id": "6fc601364a53a399",
   "execution_count": 357,
   "outputs": []
  },
  {
   "metadata": {},
   "cell_type": "code",
   "execution_count": null,
   "source": "len(train_loader), len(test_loader)",
   "id": "d3e8c3a207caba6b",
   "outputs": []
  }
 ],
 "metadata": {
  "kernelspec": {
   "display_name": "Python 3",
   "language": "python",
   "name": "python3"
  },
  "language_info": {
   "codemirror_mode": {
    "name": "ipython",
    "version": 2
   },
   "file_extension": ".py",
   "mimetype": "text/x-python",
   "name": "python",
   "nbconvert_exporter": "python",
   "pygments_lexer": "ipython2",
   "version": "2.7.6"
  }
 },
 "nbformat": 4,
 "nbformat_minor": 5
}
