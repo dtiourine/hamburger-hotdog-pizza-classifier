{
 "cells": [
  {
   "metadata": {},
   "cell_type": "markdown",
   "source": [
    "# Loading Pretrained Models\n",
    "\n",
    "In this notebook, we experiment with different pretrained models like `VGG16` and `AlexNet`. For each model we will train it on a subset of the data and observe its performance on the corresponding validation set. From there, we will take the best performing model and finetune it further by training it on the entire dataset in `fine_tuning.ipynb`."
   ],
   "id": "d49871b0903be241"
  },
  {
   "cell_type": "code",
   "id": "initial_id",
   "metadata": {
    "collapsed": true,
    "ExecuteTime": {
     "end_time": "2024-07-26T13:33:22.905978Z",
     "start_time": "2024-07-26T13:33:20.106533Z"
    }
   },
   "source": [
    "# Standard library imports\n",
    "import json\n",
    "import time\n",
    "\n",
    "# PyTorch imports\n",
    "import torch\n",
    "from torch import nn\n",
    "from torch.utils.data import DataLoader\n",
    "import torch.optim as optim\n",
    "\n",
    "# torchvision imports\n",
    "from torchvision.models import VGG16_Weights\n",
    "from torchvision.datasets import ImageFolder\n",
    "\n",
    "# Project-specific imports\n",
    "from src.config import PROCESSED_DATA_DIR, LEARNING_RATE, BATCH_SIZE, MOMENTUM\n",
    "from utils import train_validate_model, modify_model_output\n",
    "\n",
    "# Logging and experiment tracking\n",
    "from loguru import logger\n",
    "\n",
    "# Load hyperparameters\n",
    "batch_size = BATCH_SIZE\n",
    "lr = LEARNING_RATE\n",
    "momentum = MOMENTUM\n",
    "\n",
    "print('Imported necessary libraries/variables')"
   ],
   "outputs": [
    {
     "name": "stderr",
     "output_type": "stream",
     "text": [
      "\u001B[32m2024-07-26 09:33:22.146\u001B[0m | \u001B[1mINFO    \u001B[0m | \u001B[36msrc.config\u001B[0m:\u001B[36m<module>\u001B[0m:\u001B[36m11\u001B[0m - \u001B[1mPROJ_ROOT path is: C:\\Git\\hamburger-hotdog-pizza-classifier\u001B[0m\n"
     ]
    },
    {
     "name": "stdout",
     "output_type": "stream",
     "text": [
      "Imported necessary libraries/variables\n"
     ]
    }
   ],
   "execution_count": 1
  },
  {
   "metadata": {},
   "cell_type": "code",
   "outputs": [],
   "execution_count": null,
   "source": [
    "# Directory paths\n",
    "subset_image_path = PROCESSED_DATA_DIR / \"pizza_hamburger_hotdog_20_percent\"\n",
    "train_dir = subset_image_path / 'train'\n",
    "test_dir = subset_image_path / 'test'\n",
    "valid_dir = subset_image_path / 'valid'\n",
    "\n",
    "# Data loading parameters\n",
    "weights = VGG16_Weights.DEFAULT\n",
    "transform = weights.transforms()\n",
    "\n",
    "# Data preparation\n",
    "train_data = ImageFolder(train_dir, transform=transform)\n",
    "valid_data = ImageFolder(valid_dir, transform=transform)\n",
    "test_data = ImageFolder(test_dir, transform=transform)\n",
    "\n",
    "# Data loaders\n",
    "train_loader = DataLoader(train_data, batch_size=batch_size, shuffle=True)\n",
    "valid_loader = DataLoader(valid_data, batch_size=batch_size, shuffle=True)\n",
    "test_loader = DataLoader(test_data, batch_size=batch_size, shuffle=False)\n",
    "\n",
    "# Device setup\n",
    "device = 'cuda' if torch.cuda.is_available() else 'cpu'"
   ],
   "id": "40cbf3f3d5ba9ef3"
  },
  {
   "metadata": {},
   "cell_type": "markdown",
   "source": [
    "# Start with Pre-Trained Models\n",
    "\n",
    "Let's choose some popular CNN architectures as a starting point\n",
    "\n",
    "First, we need to load these pretrained models"
   ],
   "id": "bba17d20cc5aec51"
  },
  {
   "metadata": {
    "ExecuteTime": {
     "end_time": "2024-07-25T18:30:26.347750Z",
     "start_time": "2024-07-25T18:30:24.946207Z"
    }
   },
   "cell_type": "code",
   "source": [
    "num_classes = 3\n",
    "alexnet = modify_model_output('alexnet', num_classes, device)\n",
    "vgg16 = modify_model_output('vgg16', num_classes, device)\n",
    "resnet50 = modify_model_output('resnet50', num_classes, device)"
   ],
   "id": "912760e86fdc75de",
   "outputs": [],
   "execution_count": 6
  },
  {
   "metadata": {},
   "cell_type": "markdown",
   "source": "## 1. Trying ResNet50",
   "id": "1640c201714da7c9"
  },
  {
   "metadata": {
    "ExecuteTime": {
     "end_time": "2024-07-25T18:17:00.798329Z",
     "start_time": "2024-07-25T18:16:35.817693Z"
    }
   },
   "cell_type": "code",
   "source": [
    "criterion = nn.CrossEntropyLoss()\n",
    "optimizer = optim.SGD(resnet50.parameters(), lr=0.001, momentum=0.3)\n",
    "model_name = \"ResNet50\"\n",
    "date_time = time.time()\n",
    "logger.add(f\"logs/{model_name}/training_log-{date_time}.log\", format=\"{time} {level} {message}\", level=\"INFO\")\n",
    "train_validate_model(num_epochs=10, model=resnet50, train_loader=train_loader, valid_loader=valid_loader, criterion=criterion, optimizer=optimizer, device=device, model_save_path=\"models/best_resnet50_model.pth\")"
   ],
   "id": "1ca4305797e855c9",
   "outputs": [
    {
     "name": "stderr",
     "output_type": "stream",
     "text": [
      "Overall Training Progress: 100%|██████████| 10/10 [00:24<00:00,  2.50s/it, Best Val Accuracy=65.00%, Current Train Accuracy=67.04%, Current Val Accuracy=65.00%]\n"
     ]
    }
   ],
   "execution_count": 10
  },
  {
   "metadata": {},
   "cell_type": "markdown",
   "source": "## 2. Trying VGG16",
   "id": "996b02b0bba27a80"
  },
  {
   "metadata": {
    "ExecuteTime": {
     "end_time": "2024-07-25T18:30:27.563490Z",
     "start_time": "2024-07-25T18:30:27.556935Z"
    }
   },
   "cell_type": "code",
   "source": [
    "# Prepare data into dataloader\n",
    "from torchvision.models import vgg16, VGG16_Weights\n",
    "weights = VGG16_Weights.DEFAULT\n",
    "preprocess = weights.transforms()\n",
    "\n",
    "train_data = ImageFolder(train_dir, transform=preprocess)\n",
    "valid_data = ImageFolder(valid_dir, transform=preprocess)\n",
    "test_data = ImageFolder(test_dir, transform=preprocess)\n",
    "train_loader = DataLoader(train_data, batch_size=batch_size, shuffle=True)\n",
    "valid_loader = DataLoader(valid_data, batch_size=batch_size, shuffle=True)\n",
    "test_loader = DataLoader(test_data, batch_size=batch_size, shuffle=False)"
   ],
   "id": "e041aadc8411fd9c",
   "outputs": [],
   "execution_count": 7
  },
  {
   "metadata": {
    "ExecuteTime": {
     "end_time": "2024-07-25T18:32:02.774605Z",
     "start_time": "2024-07-25T18:30:54.513547Z"
    }
   },
   "cell_type": "code",
   "source": [
    "criterion = nn.CrossEntropyLoss()\n",
    "vgg16 = modify_model_output('vgg16', num_classes, device)\n",
    "optimizer = optim.SGD(vgg16.parameters(), lr=0.001, momentum=0.3)\n",
    "model_name = \"VGG16\"\n",
    "date_time = time.time()\n",
    "logger.add(f\"logs/{model_name}/training_log-{date_time}.log\", format=\"{time} {level} {message}\", level=\"INFO\")\n",
    "train_validate_model(num_epochs=20, model=vgg16, train_loader=train_loader, valid_loader=valid_loader, criterion=criterion, optimizer=optimizer, device=device, model_save_path=\"models/vgg16.pth\")  "
   ],
   "id": "39ac7b4fab3bf47c",
   "outputs": [
    {
     "name": "stderr",
     "output_type": "stream",
     "text": [
      "Overall Training Progress: 100%|██████████| 20/20 [01:07<00:00,  3.38s/it, Best Val Accuracy=93.89%, Current Train Accuracy=98.15%, Current Val Accuracy=91.11%]\n"
     ]
    }
   ],
   "execution_count": 8
  },
  {
   "metadata": {},
   "cell_type": "markdown",
   "source": "## 3. Trying AlexNet",
   "id": "8acf49b16ceb74e"
  },
  {
   "metadata": {},
   "cell_type": "code",
   "source": [
    "criterion = nn.CrossEntropyLoss()\n",
    "optimizer = optim.SGD(alexnet.parameters(), lr=0.001, momentum=0.3)\n",
    "model_name = \"AlexNet\"\n",
    "date_time = time.time()\n",
    "logger.add(f\"logs/{model_name}/training_log-{date_time}.log\", format=\"{time} {level} {message}\", level=\"INFO\")\n",
    "train_validate_model(num_epochs=10, model=alexnet, train_loader=train_loader, valid_loader=valid_loader, criterion=criterion, optimizer=optimizer, device=device, model_save_path=\"models/best_alexnet_model.pth\")"
   ],
   "id": "f7645d0e2a44205e",
   "outputs": [],
   "execution_count": null
  },
  {
   "metadata": {},
   "cell_type": "markdown",
   "source": "Since VGG16 was able to achieve nearly 88% accuracy on the validation set, let's start off with VGG16 as our base model to improve upon.",
   "id": "971b10be6cb0ac70"
  }
 ],
 "metadata": {
  "kernelspec": {
   "display_name": "Python 3",
   "language": "python",
   "name": "python3"
  },
  "language_info": {
   "codemirror_mode": {
    "name": "ipython",
    "version": 2
   },
   "file_extension": ".py",
   "mimetype": "text/x-python",
   "name": "python",
   "nbconvert_exporter": "python",
   "pygments_lexer": "ipython2",
   "version": "2.7.6"
  }
 },
 "nbformat": 4,
 "nbformat_minor": 5
}
