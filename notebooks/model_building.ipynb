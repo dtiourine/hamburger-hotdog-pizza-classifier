{
 "cells": [
  {
   "cell_type": "code",
   "id": "initial_id",
   "metadata": {
    "collapsed": true,
    "ExecuteTime": {
     "end_time": "2024-06-21T22:23:42.567495Z",
     "start_time": "2024-06-21T22:23:42.558049Z"
    }
   },
   "source": [
    "# Import packages\n",
    "import os\n",
    "import random\n",
    "from PIL import Image\n",
    "from torch import nn\n",
    "import torch \n",
    "from torchvision import datasets, transforms\n",
    "import matplotlib.pyplot as plt\n",
    "from torchvision.datasets import ImageFolder\n",
    "from torch.utils.data import DataLoader\n",
    "import json \n",
    "\n",
    "\n",
    "from src.config import PROCESSED_DATA_DIR, RAW_DATA_DIR\n",
    "\n",
    "image_path = PROCESSED_DATA_DIR / \"pizza_hamburger_hotdog_10_percent\"\n",
    "train_dir = image_path / 'train' \n",
    "test_dir = image_path / 'test'\n",
    "\n",
    "device ='cuda' if torch.cuda.is_available() else 'cpu'"
   ],
   "outputs": [],
   "execution_count": 21
  },
  {
   "metadata": {
    "ExecuteTime": {
     "end_time": "2024-06-21T22:23:43.632712Z",
     "start_time": "2024-06-21T22:23:43.623035Z"
    }
   },
   "cell_type": "code",
   "source": [
    "config_path = 'params.json'\n",
    "\n",
    "with open(config_path, 'r') as config_file:\n",
    "   config = json.load(config_file)\n",
    "#print(json.dumps(config, indent=2))"
   ],
   "id": "cc3123caabef7803",
   "outputs": [],
   "execution_count": 22
  },
  {
   "metadata": {
    "ExecuteTime": {
     "end_time": "2024-06-21T22:23:44.129743Z",
     "start_time": "2024-06-21T22:23:44.120768Z"
    }
   },
   "cell_type": "code",
   "source": [
    "# Load hyperparams from params.json\n",
    "\n",
    "learning_rate = config['model_params']['learning_rate']\n",
    "batch_size = config['model_params']['batch_size']\n",
    "num_epochs = config['model_params']['num_epochs']\n",
    "dropout_rate = config['model_params']['dropout_rate']\n",
    "optimizer = config['model_params']['optimizer']\n",
    "loss_function = config['model_params']['loss_function']\n",
    "metrics = config['model_params']['metrics']\n",
    "output_shape = config['model_params']['output_shape']"
   ],
   "id": "c56836a1b80282c0",
   "outputs": [],
   "execution_count": 23
  },
  {
   "metadata": {
    "ExecuteTime": {
     "end_time": "2024-06-21T22:23:44.759657Z",
     "start_time": "2024-06-21T22:23:44.751237Z"
    }
   },
   "cell_type": "code",
   "source": [
    "# Prepare data into dataloader\n",
    "transform = transforms.Compose([\n",
    "    transforms.Resize((224, 224)),\n",
    "    transforms.RandomHorizontalFlip(),\n",
    "        transforms.ToTensor()\n",
    "])\n",
    "\n",
    "train_data = ImageFolder(train_dir, transform=transform)\n",
    "test_data = ImageFolder(test_dir, transform=transform)\n",
    "train_loader = DataLoader(train_data, batch_size=batch_size, shuffle=True)\n",
    "test_loader = DataLoader(test_data, batch_size=batch_size, shuffle=False)"
   ],
   "id": "f8ef72168ffb3d9d",
   "outputs": [],
   "execution_count": 24
  },
  {
   "metadata": {
    "ExecuteTime": {
     "end_time": "2024-06-21T22:23:45.267332Z",
     "start_time": "2024-06-21T22:23:45.260930Z"
    }
   },
   "cell_type": "code",
   "source": [
    "class HHP01(nn.Module):\n",
    "    def __init__(self, input_shape: int,\n",
    "                 hidden_units: int,\n",
    "                 output_shape: int):\n",
    "        super(HHP01, self).__init__()\n",
    "        self.conv_block1 = nn.Sequential(\n",
    "            nn.Conv2d(in_channels=input_shape, out_channels=hidden_units, kernel_size=3, stride=1, padding=0),\n",
    "            nn.ReLU(),\n",
    "            nn.Conv2d(in_channels=hidden_units, out_channels=hidden_units, kernel_size=3, stride=1, padding=0),\n",
    "            nn.MaxPool2d(kernel_size=2, stride=2),\n",
    "        )\n",
    "        self.conv_block2 = nn.Sequential(\n",
    "            nn.Conv2d(in_channels=hidden_units, out_channels=hidden_units, kernel_size=3, stride=1, padding=0),\n",
    "            nn.ReLU(),\n",
    "            nn.Conv2d(in_channels=hidden_units, out_channels=hidden_units, kernel_size=3, stride=1, padding=0),\n",
    "            nn.MaxPool2d(kernel_size=2, stride=2),\n",
    "        )\n",
    "        self.classifier = nn.Sequential(\n",
    "            nn.Flatten(),\n",
    "            nn.Linear(in_features=hidden_units*53*53, out_features=output_shape)\n",
    "        )\n",
    "        \n",
    "    def forward(self, x):\n",
    "        # x = self.conv_block1(x)\n",
    "        # print(x.shape)\n",
    "        # x = self.conv_block2(x)\n",
    "        # print(x.shape)\n",
    "        # x = self.classifier(x)\n",
    "        # print(x.shape)\n",
    "        # return x\n",
    "        return self.classifier(self.conv_block2(self.conv_block1(x)))"
   ],
   "id": "5e75b72efb2c6750",
   "outputs": [],
   "execution_count": 25
  },
  {
   "metadata": {
    "ExecuteTime": {
     "end_time": "2024-06-21T22:23:45.716462Z",
     "start_time": "2024-06-21T22:23:45.707778Z"
    }
   },
   "cell_type": "code",
   "source": [
    "model = HHP01(input_shape=3, hidden_units=10, output_shape=output_shape).to(device)\n",
    "model"
   ],
   "id": "3d00a6052fada4d3",
   "outputs": [
    {
     "data": {
      "text/plain": [
       "HHP01(\n",
       "  (conv_block1): Sequential(\n",
       "    (0): Conv2d(3, 10, kernel_size=(3, 3), stride=(1, 1))\n",
       "    (1): ReLU()\n",
       "    (2): Conv2d(10, 10, kernel_size=(3, 3), stride=(1, 1))\n",
       "    (3): MaxPool2d(kernel_size=2, stride=2, padding=0, dilation=1, ceil_mode=False)\n",
       "  )\n",
       "  (conv_block2): Sequential(\n",
       "    (0): Conv2d(10, 10, kernel_size=(3, 3), stride=(1, 1))\n",
       "    (1): ReLU()\n",
       "    (2): Conv2d(10, 10, kernel_size=(3, 3), stride=(1, 1))\n",
       "    (3): MaxPool2d(kernel_size=2, stride=2, padding=0, dilation=1, ceil_mode=False)\n",
       "  )\n",
       "  (classifier): Sequential(\n",
       "    (0): Flatten(start_dim=1, end_dim=-1)\n",
       "    (1): Linear(in_features=28090, out_features=3, bias=True)\n",
       "  )\n",
       ")"
      ]
     },
     "execution_count": 26,
     "metadata": {},
     "output_type": "execute_result"
    }
   ],
   "execution_count": 26
  },
  {
   "metadata": {
    "ExecuteTime": {
     "end_time": "2024-06-21T22:23:46.385007Z",
     "start_time": "2024-06-21T22:23:46.215424Z"
    }
   },
   "cell_type": "code",
   "source": [
    "image_batch, label_batch = next(iter(train_loader))\n",
    "image_batch.shape, label_batch.shape"
   ],
   "id": "27d0d3d23db0a120",
   "outputs": [
    {
     "data": {
      "text/plain": [
       "(torch.Size([64, 3, 224, 224]), torch.Size([64]))"
      ]
     },
     "execution_count": 27,
     "metadata": {},
     "output_type": "execute_result"
    }
   ],
   "execution_count": 27
  },
  {
   "metadata": {
    "ExecuteTime": {
     "end_time": "2024-06-21T22:23:46.986269Z",
     "start_time": "2024-06-21T22:23:46.878530Z"
    }
   },
   "cell_type": "code",
   "source": "model(image_batch.to(device))",
   "id": "d0cfa414c588547b",
   "outputs": [
    {
     "data": {
      "text/plain": [
       "tensor([[ 0.0044, -0.0045, -0.0174],\n",
       "        [ 0.0093, -0.0079, -0.0187],\n",
       "        [ 0.0008, -0.0094, -0.0147],\n",
       "        [ 0.0100, -0.0156, -0.0219],\n",
       "        [ 0.0053, -0.0086, -0.0207],\n",
       "        [ 0.0033, -0.0130, -0.0254],\n",
       "        [ 0.0036, -0.0065, -0.0115],\n",
       "        [ 0.0040, -0.0175, -0.0107],\n",
       "        [ 0.0084, -0.0045, -0.0192],\n",
       "        [ 0.0152, -0.0070, -0.0161],\n",
       "        [ 0.0054, -0.0112, -0.0156],\n",
       "        [ 0.0107, -0.0184, -0.0112],\n",
       "        [ 0.0075, -0.0050, -0.0095],\n",
       "        [ 0.0077, -0.0057, -0.0165],\n",
       "        [ 0.0046, -0.0013, -0.0241],\n",
       "        [ 0.0106, -0.0084, -0.0168],\n",
       "        [ 0.0096, -0.0094, -0.0158],\n",
       "        [ 0.0087, -0.0099, -0.0098],\n",
       "        [ 0.0062, -0.0047, -0.0113],\n",
       "        [ 0.0064, -0.0060, -0.0112],\n",
       "        [ 0.0133, -0.0079, -0.0200],\n",
       "        [ 0.0061, -0.0078, -0.0104],\n",
       "        [ 0.0151, -0.0104, -0.0188],\n",
       "        [ 0.0070, -0.0068, -0.0200],\n",
       "        [ 0.0082, -0.0039, -0.0123],\n",
       "        [ 0.0124, -0.0202, -0.0069],\n",
       "        [ 0.0067, -0.0112, -0.0159],\n",
       "        [ 0.0112, -0.0172, -0.0137],\n",
       "        [ 0.0073, -0.0042, -0.0120],\n",
       "        [ 0.0160, -0.0164, -0.0144],\n",
       "        [ 0.0083, -0.0161, -0.0106],\n",
       "        [ 0.0113, -0.0099, -0.0229],\n",
       "        [ 0.0108, -0.0075, -0.0092],\n",
       "        [-0.0008, -0.0113, -0.0176],\n",
       "        [ 0.0036, -0.0113, -0.0106],\n",
       "        [ 0.0041, -0.0125, -0.0299],\n",
       "        [-0.0019, -0.0066, -0.0138],\n",
       "        [ 0.0012, -0.0100, -0.0192],\n",
       "        [ 0.0018, -0.0095, -0.0097],\n",
       "        [ 0.0028, -0.0116, -0.0198],\n",
       "        [ 0.0157, -0.0097, -0.0227],\n",
       "        [ 0.0040, -0.0109, -0.0167],\n",
       "        [ 0.0064, -0.0098, -0.0210],\n",
       "        [ 0.0054, -0.0093, -0.0133],\n",
       "        [ 0.0088, -0.0111, -0.0055],\n",
       "        [ 0.0010, -0.0097, -0.0154],\n",
       "        [ 0.0027, -0.0159, -0.0173],\n",
       "        [ 0.0073, -0.0064, -0.0250],\n",
       "        [ 0.0071, -0.0174, -0.0159],\n",
       "        [ 0.0056, -0.0073, -0.0197],\n",
       "        [ 0.0080, -0.0080, -0.0121],\n",
       "        [ 0.0072, -0.0050, -0.0148],\n",
       "        [ 0.0042, -0.0209, -0.0025],\n",
       "        [ 0.0090, -0.0052, -0.0152],\n",
       "        [ 0.0135, -0.0198, -0.0144],\n",
       "        [ 0.0066, -0.0041, -0.0188],\n",
       "        [ 0.0146, -0.0103, -0.0170],\n",
       "        [ 0.0004, -0.0136, -0.0053],\n",
       "        [ 0.0047, -0.0097, -0.0112],\n",
       "        [ 0.0017, -0.0102, -0.0264],\n",
       "        [ 0.0096, -0.0121, -0.0207],\n",
       "        [ 0.0086, -0.0069, -0.0186],\n",
       "        [ 0.0095, -0.0060, -0.0129],\n",
       "        [ 0.0105, -0.0173, -0.0307]], device='cuda:0',\n",
       "       grad_fn=<AddmmBackward0>)"
      ]
     },
     "execution_count": 28,
     "metadata": {},
     "output_type": "execute_result"
    }
   ],
   "execution_count": 28
  },
  {
   "metadata": {
    "ExecuteTime": {
     "end_time": "2024-06-21T22:23:47.857517Z",
     "start_time": "2024-06-21T22:23:47.848396Z"
    }
   },
   "cell_type": "code",
   "source": [
    "import torchinfo\n",
    "torchinfo.summary(model, input_size=(1, 3, 224, 224))"
   ],
   "id": "b9de75815fa96a62",
   "outputs": [
    {
     "data": {
      "text/plain": [
       "==========================================================================================\n",
       "Layer (type:depth-idx)                   Output Shape              Param #\n",
       "==========================================================================================\n",
       "HHP01                                    [1, 3]                    --\n",
       "├─Sequential: 1-1                        [1, 10, 110, 110]         --\n",
       "│    └─Conv2d: 2-1                       [1, 10, 222, 222]         280\n",
       "│    └─ReLU: 2-2                         [1, 10, 222, 222]         --\n",
       "│    └─Conv2d: 2-3                       [1, 10, 220, 220]         910\n",
       "│    └─MaxPool2d: 2-4                    [1, 10, 110, 110]         --\n",
       "├─Sequential: 1-2                        [1, 10, 53, 53]           --\n",
       "│    └─Conv2d: 2-5                       [1, 10, 108, 108]         910\n",
       "│    └─ReLU: 2-6                         [1, 10, 108, 108]         --\n",
       "│    └─Conv2d: 2-7                       [1, 10, 106, 106]         910\n",
       "│    └─MaxPool2d: 2-8                    [1, 10, 53, 53]           --\n",
       "├─Sequential: 1-3                        [1, 3]                    --\n",
       "│    └─Flatten: 2-9                      [1, 28090]                --\n",
       "│    └─Linear: 2-10                      [1, 3]                    84,273\n",
       "==========================================================================================\n",
       "Total params: 87,283\n",
       "Trainable params: 87,283\n",
       "Non-trainable params: 0\n",
       "Total mult-adds (Units.MEGABYTES): 78.77\n",
       "==========================================================================================\n",
       "Input size (MB): 0.60\n",
       "Forward/backward pass size (MB): 9.65\n",
       "Params size (MB): 0.35\n",
       "Estimated Total Size (MB): 10.60\n",
       "=========================================================================================="
      ]
     },
     "execution_count": 29,
     "metadata": {},
     "output_type": "execute_result"
    }
   ],
   "execution_count": 29
  },
  {
   "metadata": {
    "ExecuteTime": {
     "end_time": "2024-06-21T22:34:37.046639Z",
     "start_time": "2024-06-21T22:34:02.335385Z"
    }
   },
   "cell_type": "code",
   "source": [
    "import torch.optim as optim\n",
    "criterion = nn.CrossEntropyLoss()\n",
    "optimizer = optim.SGD(model.parameters(), lr=0.002, momentum=0.3)\n",
    "\n",
    "def train_model(num_epochs):\n",
    "    for epoch in range(num_epochs):\n",
    "        running_loss = 0.0\n",
    "        correct = 0\n",
    "        total = 0\n",
    "        for images, labels in train_loader:\n",
    "            images, labels = images.to(device), labels.to(device)\n",
    "            optimizer.zero_grad()\n",
    "            outputs = model(images)\n",
    "            loss = criterion(outputs, labels)\n",
    "            loss.backward()\n",
    "            optimizer.step()\n",
    "            running_loss += loss.item()\n",
    "            _, predicted = torch.max(outputs.data, 1)\n",
    "            total += labels.size(0)\n",
    "            correct += (predicted == labels).sum().item()\n",
    "\n",
    "        epoch_loss = running_loss / len(train_loader)\n",
    "        epoch_accuracy = 100 * correct / total\n",
    "        print(f'Epoch {epoch + 1}, Loss: {epoch_loss:.4f}, Accuracy: {epoch_accuracy:.2f}%')\n",
    "\n",
    "# Call the training function\n",
    "train_model(num_epochs=num_epochs)"
   ],
   "id": "37a0a9d36f35881e",
   "outputs": [
    {
     "name": "stdout",
     "output_type": "stream",
     "text": [
      "Epoch 1, Loss: 0.7727, Accuracy: 68.00%\n",
      "Epoch 2, Loss: 0.7610, Accuracy: 68.00%\n",
      "Epoch 3, Loss: 0.7589, Accuracy: 65.33%\n",
      "Epoch 4, Loss: 0.7443, Accuracy: 67.56%\n",
      "Epoch 5, Loss: 0.7501, Accuracy: 68.00%\n",
      "Epoch 6, Loss: 0.7558, Accuracy: 67.11%\n",
      "Epoch 7, Loss: 0.7229, Accuracy: 69.33%\n",
      "Epoch 8, Loss: 0.7211, Accuracy: 68.89%\n",
      "Epoch 9, Loss: 0.7161, Accuracy: 71.11%\n",
      "Epoch 10, Loss: 0.7291, Accuracy: 69.33%\n",
      "Epoch 11, Loss: 0.7090, Accuracy: 67.56%\n",
      "Epoch 12, Loss: 0.7154, Accuracy: 70.67%\n",
      "Epoch 13, Loss: 0.6866, Accuracy: 72.00%\n",
      "Epoch 14, Loss: 0.6913, Accuracy: 69.78%\n",
      "Epoch 15, Loss: 0.6852, Accuracy: 72.89%\n",
      "Epoch 16, Loss: 0.6475, Accuracy: 69.78%\n",
      "Epoch 17, Loss: 0.6631, Accuracy: 71.11%\n",
      "Epoch 18, Loss: 0.6312, Accuracy: 74.22%\n",
      "Epoch 19, Loss: 0.6466, Accuracy: 72.00%\n",
      "Epoch 20, Loss: 0.6404, Accuracy: 71.56%\n",
      "Epoch 21, Loss: 0.6238, Accuracy: 73.33%\n",
      "Epoch 22, Loss: 0.6406, Accuracy: 72.44%\n",
      "Epoch 23, Loss: 0.6730, Accuracy: 68.44%\n",
      "Epoch 24, Loss: 0.6194, Accuracy: 72.89%\n",
      "Epoch 25, Loss: 0.6164, Accuracy: 77.33%\n",
      "Epoch 26, Loss: 0.6056, Accuracy: 75.56%\n",
      "Epoch 27, Loss: 0.6275, Accuracy: 71.56%\n",
      "Epoch 28, Loss: 0.6113, Accuracy: 73.78%\n",
      "Epoch 29, Loss: 0.5885, Accuracy: 74.67%\n",
      "Epoch 30, Loss: 0.5906, Accuracy: 77.33%\n",
      "Epoch 31, Loss: 0.5910, Accuracy: 73.78%\n",
      "Epoch 32, Loss: 0.5949, Accuracy: 74.67%\n",
      "Epoch 33, Loss: 0.5548, Accuracy: 79.11%\n",
      "Epoch 34, Loss: 0.7061, Accuracy: 68.00%\n",
      "Epoch 35, Loss: 0.5571, Accuracy: 78.22%\n",
      "Epoch 36, Loss: 0.5898, Accuracy: 75.11%\n",
      "Epoch 37, Loss: 0.5997, Accuracy: 75.11%\n",
      "Epoch 38, Loss: 0.5178, Accuracy: 77.78%\n",
      "Epoch 39, Loss: 0.5406, Accuracy: 76.44%\n",
      "Epoch 40, Loss: 0.5290, Accuracy: 77.33%\n",
      "Epoch 41, Loss: 0.5265, Accuracy: 80.89%\n",
      "Epoch 42, Loss: 0.5133, Accuracy: 80.00%\n",
      "Epoch 43, Loss: 0.5867, Accuracy: 72.00%\n",
      "Epoch 44, Loss: 0.4949, Accuracy: 81.33%\n",
      "Epoch 45, Loss: 0.5163, Accuracy: 79.56%\n",
      "Epoch 46, Loss: 0.5072, Accuracy: 80.89%\n",
      "Epoch 47, Loss: 0.4797, Accuracy: 81.78%\n",
      "Epoch 48, Loss: 0.4646, Accuracy: 80.00%\n",
      "Epoch 49, Loss: 0.4378, Accuracy: 83.11%\n",
      "Epoch 50, Loss: 0.4588, Accuracy: 82.67%\n"
     ]
    }
   ],
   "execution_count": 35
  },
  {
   "metadata": {
    "ExecuteTime": {
     "end_time": "2024-06-21T22:34:37.053310Z",
     "start_time": "2024-06-21T22:34:37.046639Z"
    }
   },
   "cell_type": "code",
   "source": "model = HHP01(input_shape=3, hidden_units=20, output_shape=output_shape).to(device)",
   "id": "f5635c4c03da4fcc",
   "outputs": [],
   "execution_count": 36
  },
  {
   "metadata": {},
   "cell_type": "code",
   "outputs": [],
   "execution_count": null,
   "source": "",
   "id": "b2e3559e766a0cf6"
  }
 ],
 "metadata": {
  "kernelspec": {
   "display_name": "Python 3",
   "language": "python",
   "name": "python3"
  },
  "language_info": {
   "codemirror_mode": {
    "name": "ipython",
    "version": 2
   },
   "file_extension": ".py",
   "mimetype": "text/x-python",
   "name": "python",
   "nbconvert_exporter": "python",
   "pygments_lexer": "ipython2",
   "version": "2.7.6"
  }
 },
 "nbformat": 4,
 "nbformat_minor": 5
}
