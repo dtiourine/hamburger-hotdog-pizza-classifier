{
 "cells": [
  {
   "cell_type": "code",
   "id": "initial_id",
   "metadata": {
    "collapsed": true,
    "ExecuteTime": {
     "end_time": "2024-06-23T22:24:52.703571Z",
     "start_time": "2024-06-23T22:24:48.946309Z"
    }
   },
   "source": [
    "# Import packages\n",
    "import os\n",
    "import random\n",
    "from PIL import Image\n",
    "from torch import nn\n",
    "import torch \n",
    "from torchvision import datasets, transforms\n",
    "import matplotlib.pyplot as plt\n",
    "from torchvision.datasets import ImageFolder\n",
    "from torch.utils.data import DataLoader\n",
    "import json \n",
    "from src.config import PROCESSED_DATA_DIR, RAW_DATA_DIR\n",
    "import torch.optim as optim\n",
    "\n",
    "from loguru import logger\n",
    "\n",
    "from utils import train_validate_model, modify_model_output, test_model\n",
    "\n",
    "import time\n",
    "import wandb\n",
    "\n",
    "image_path = PROCESSED_DATA_DIR / \"pizza_hamburger_hotdog_20_percent\"\n",
    "train_dir = image_path / 'train' \n",
    "test_dir = image_path / 'test'\n",
    "valid_dir = image_path / 'valid'\n",
    "\n",
    "device ='cuda' if torch.cuda.is_available() else 'cpu'"
   ],
   "outputs": [
    {
     "name": "stderr",
     "output_type": "stream",
     "text": [
      "\u001B[32m2024-06-23 18:24:52.010\u001B[0m | \u001B[1mINFO    \u001B[0m | \u001B[36msrc.config\u001B[0m:\u001B[36m<module>\u001B[0m:\u001B[36m11\u001B[0m - \u001B[1mPROJ_ROOT path is: C:\\Git\\hamburger-hotdog-pizza-classifier\u001B[0m\n"
     ]
    }
   ],
   "execution_count": 1
  },
  {
   "metadata": {
    "ExecuteTime": {
     "end_time": "2024-06-23T22:24:54.537910Z",
     "start_time": "2024-06-23T22:24:52.703571Z"
    }
   },
   "cell_type": "code",
   "source": "wandb.init(project='pizza_hamburger_hotdog_20_percent')",
   "id": "d3fdc50b2b1bb0da",
   "outputs": [
    {
     "name": "stderr",
     "output_type": "stream",
     "text": [
      "\u001B[34m\u001B[1mwandb\u001B[0m: Currently logged in as: \u001B[33mdtiourine\u001B[0m. Use \u001B[1m`wandb login --relogin`\u001B[0m to force relogin\n"
     ]
    },
    {
     "data": {
      "text/plain": [
       "<IPython.core.display.HTML object>"
      ],
      "text/html": [
       "wandb version 0.17.2 is available!  To upgrade, please run:\n",
       " $ pip install wandb --upgrade"
      ]
     },
     "metadata": {},
     "output_type": "display_data"
    },
    {
     "data": {
      "text/plain": [
       "<IPython.core.display.HTML object>"
      ],
      "text/html": [
       "Tracking run with wandb version 0.17.1"
      ]
     },
     "metadata": {},
     "output_type": "display_data"
    },
    {
     "data": {
      "text/plain": [
       "<IPython.core.display.HTML object>"
      ],
      "text/html": [
       "Run data is saved locally in <code>C:\\Git\\hamburger-hotdog-pizza-classifier\\notebooks\\wandb\\run-20240623_182454-1wkty6xj</code>"
      ]
     },
     "metadata": {},
     "output_type": "display_data"
    },
    {
     "data": {
      "text/plain": [
       "<IPython.core.display.HTML object>"
      ],
      "text/html": [
       "Syncing run <strong><a href='https://wandb.ai/dtiourine/pizza_hamburger_hotdog_20_percent/runs/1wkty6xj' target=\"_blank\">sunny-planet-5</a></strong> to <a href='https://wandb.ai/dtiourine/pizza_hamburger_hotdog_20_percent' target=\"_blank\">Weights & Biases</a> (<a href='https://wandb.me/run' target=\"_blank\">docs</a>)<br/>"
      ]
     },
     "metadata": {},
     "output_type": "display_data"
    },
    {
     "data": {
      "text/plain": [
       "<IPython.core.display.HTML object>"
      ],
      "text/html": [
       " View project at <a href='https://wandb.ai/dtiourine/pizza_hamburger_hotdog_20_percent' target=\"_blank\">https://wandb.ai/dtiourine/pizza_hamburger_hotdog_20_percent</a>"
      ]
     },
     "metadata": {},
     "output_type": "display_data"
    },
    {
     "data": {
      "text/plain": [
       "<IPython.core.display.HTML object>"
      ],
      "text/html": [
       " View run at <a href='https://wandb.ai/dtiourine/pizza_hamburger_hotdog_20_percent/runs/1wkty6xj' target=\"_blank\">https://wandb.ai/dtiourine/pizza_hamburger_hotdog_20_percent/runs/1wkty6xj</a>"
      ]
     },
     "metadata": {},
     "output_type": "display_data"
    },
    {
     "data": {
      "text/html": [
       "<button onClick=\"this.nextSibling.style.display='block';this.style.display='none';\">Display W&B run</button><iframe src='https://wandb.ai/dtiourine/pizza_hamburger_hotdog_20_percent/runs/1wkty6xj?jupyter=true' style='border:none;width:100%;height:420px;display:none;'></iframe>"
      ],
      "text/plain": [
       "<wandb.sdk.wandb_run.Run at 0x1af6591e7b0>"
      ]
     },
     "execution_count": 2,
     "metadata": {},
     "output_type": "execute_result"
    }
   ],
   "execution_count": 2
  },
  {
   "metadata": {
    "ExecuteTime": {
     "end_time": "2024-06-23T22:24:54.542168Z",
     "start_time": "2024-06-23T22:24:54.537910Z"
    }
   },
   "cell_type": "code",
   "source": [
    "config_path = 'params.json'\n",
    "\n",
    "with open(config_path, 'r') as config_file:\n",
    "   config = json.load(config_file)\n",
    "#print(json.dumps(config, indent=2))"
   ],
   "id": "cc3123caabef7803",
   "outputs": [],
   "execution_count": 3
  },
  {
   "metadata": {
    "ExecuteTime": {
     "end_time": "2024-06-23T22:24:54.547155Z",
     "start_time": "2024-06-23T22:24:54.542168Z"
    }
   },
   "cell_type": "code",
   "source": [
    "# Load hyperparams from params.json\n",
    "\n",
    "learning_rate = config['model_params']['learning_rate']\n",
    "batch_size = config['model_params']['batch_size']\n",
    "num_epochs = config['model_params']['num_epochs']\n",
    "dropout_rate = config['model_params']['dropout_rate']\n",
    "optimizer = config['model_params']['optimizer']\n",
    "loss_function = config['model_params']['loss_function']\n",
    "metrics = config['model_params']['metrics']\n",
    "output_shape = config['model_params']['output_shape']"
   ],
   "id": "c56836a1b80282c0",
   "outputs": [],
   "execution_count": 4
  },
  {
   "metadata": {
    "ExecuteTime": {
     "end_time": "2024-06-23T22:24:54.553678Z",
     "start_time": "2024-06-23T22:24:54.547155Z"
    }
   },
   "cell_type": "code",
   "source": [
    "# Prepare data into dataloader\n",
    "transform = transforms.Compose([\n",
    "    transforms.Resize((224, 224)),\n",
    "    transforms.RandomHorizontalFlip(),\n",
    "        transforms.ToTensor()\n",
    "])\n",
    "\n",
    "train_data = ImageFolder(train_dir, transform=transform)\n",
    "valid_data = ImageFolder(valid_dir, transform=transform)\n",
    "test_data = ImageFolder(test_dir, transform=transform)\n",
    "train_loader = DataLoader(train_data, batch_size=batch_size, shuffle=True)\n",
    "valid_loader = DataLoader(valid_data, batch_size=batch_size, shuffle=True)\n",
    "test_loader = DataLoader(test_data, batch_size=batch_size, shuffle=False)"
   ],
   "id": "f8ef72168ffb3d9d",
   "outputs": [],
   "execution_count": 5
  },
  {
   "metadata": {},
   "cell_type": "markdown",
   "source": [
    "# Start with Pre-Trained Models\n",
    "\n",
    "Let's choose some popular CNN architectures as a starting point\n",
    "\n",
    "First, we need to load these pretrained models"
   ],
   "id": "bba17d20cc5aec51"
  },
  {
   "metadata": {
    "ExecuteTime": {
     "end_time": "2024-06-23T22:24:55.829062Z",
     "start_time": "2024-06-23T22:24:54.553678Z"
    }
   },
   "cell_type": "code",
   "source": [
    "num_classes = 3\n",
    "alexnet = modify_model_output('alexnet', num_classes, device)\n",
    "vgg16 = modify_model_output('vgg16', num_classes, device)\n",
    "resnet50 = modify_model_output('resnet50', num_classes, device)"
   ],
   "id": "912760e86fdc75de",
   "outputs": [],
   "execution_count": 6
  },
  {
   "metadata": {},
   "cell_type": "markdown",
   "source": "## 1. Trying ResNet50",
   "id": "1640c201714da7c9"
  },
  {
   "metadata": {
    "ExecuteTime": {
     "end_time": "2024-06-23T22:25:15.431033Z",
     "start_time": "2024-06-23T22:24:57.553776Z"
    }
   },
   "cell_type": "code",
   "source": [
    "criterion = nn.CrossEntropyLoss()\n",
    "optimizer = optim.SGD(resnet50.parameters(), lr=0.001, momentum=0.3)\n",
    "model_name = \"ResNet50\"\n",
    "date_time = time.time()\n",
    "logger.add(f\"logs/{model_name}/training_log-{date_time}.log\", format=\"{time} {level} {message}\", level=\"INFO\")\n",
    "train_validate_model(num_epochs=10, model=resnet50, train_loader=train_loader, valid_loader=valid_loader, criterion=criterion, optimizer=optimizer, device=device, model_save_path=\"models/best_resnet50_model.pth\")"
   ],
   "id": "1ca4305797e855c9",
   "outputs": [
    {
     "name": "stderr",
     "output_type": "stream",
     "text": [
      "Overall Training Progress: 100%|██████████| 10/10 [00:17<00:00,  1.79s/it, Best Val Accuracy=59.44%, Current Train Accuracy=55.93%, Current Val Accuracy=59.44%]\n"
     ]
    }
   ],
   "execution_count": 7
  },
  {
   "metadata": {},
   "cell_type": "markdown",
   "source": "## 2. Trying VGG16",
   "id": "996b02b0bba27a80"
  },
  {
   "metadata": {
    "ExecuteTime": {
     "end_time": "2024-06-23T22:26:32.653786Z",
     "start_time": "2024-06-23T22:25:43.609074Z"
    }
   },
   "cell_type": "code",
   "source": [
    "criterion = nn.CrossEntropyLoss()\n",
    "optimizer = optim.SGD(vgg16.parameters(), lr=0.001, momentum=0.3)\n",
    "model_name = \"VGG16\"\n",
    "date_time = time.time()\n",
    "logger.add(f\"logs/{model_name}/training_log-{date_time}.log\", format=\"{time} {level} {message}\", level=\"INFO\")\n",
    "train_validate_model(num_epochs=20, model=vgg16, train_loader=train_loader, valid_loader=valid_loader, criterion=criterion, optimizer=optimizer, device=device, model_save_path=\"models/best_vgg16_model.pth\")"
   ],
   "id": "39ac7b4fab3bf47c",
   "outputs": [
    {
     "name": "stderr",
     "output_type": "stream",
     "text": [
      "Overall Training Progress: 100%|██████████| 20/20 [00:49<00:00,  2.45s/it, Best Val Accuracy=87.78%, Current Train Accuracy=91.85%, Current Val Accuracy=87.22%]\n"
     ]
    }
   ],
   "execution_count": 8
  },
  {
   "metadata": {},
   "cell_type": "markdown",
   "source": "## 3. Trying AlexNet",
   "id": "8acf49b16ceb74e"
  },
  {
   "metadata": {
    "ExecuteTime": {
     "end_time": "2024-06-23T22:27:53.493603Z",
     "start_time": "2024-06-23T22:27:35.964679Z"
    }
   },
   "cell_type": "code",
   "source": [
    "criterion = nn.CrossEntropyLoss()\n",
    "optimizer = optim.SGD(alexnet.parameters(), lr=0.001, momentum=0.3)\n",
    "model_name = \"AlexNet\"\n",
    "date_time = time.time()\n",
    "logger.add(f\"logs/{model_name}/training_log-{date_time}.log\", format=\"{time} {level} {message}\", level=\"INFO\")\n",
    "train_validate_model(num_epochs=10, model=alexnet, train_loader=train_loader, valid_loader=valid_loader, criterion=criterion, optimizer=optimizer, device=device, model_save_path=\"models/best_alexnet_model.pth\")"
   ],
   "id": "f7645d0e2a44205e",
   "outputs": [
    {
     "name": "stderr",
     "output_type": "stream",
     "text": [
      "Overall Training Progress: 100%|██████████| 10/10 [00:17<00:00,  1.75s/it, Best Val Accuracy=78.89%, Current Train Accuracy=84.81%, Current Val Accuracy=78.33%]\n"
     ]
    }
   ],
   "execution_count": 9
  },
  {
   "metadata": {},
   "cell_type": "markdown",
   "source": "Since VGG16 was able to achieve nearly 88% accuracy on the validation set, let's start off with VGG16 as our base model to improve upon.",
   "id": "971b10be6cb0ac70"
  }
 ],
 "metadata": {
  "kernelspec": {
   "display_name": "Python 3",
   "language": "python",
   "name": "python3"
  },
  "language_info": {
   "codemirror_mode": {
    "name": "ipython",
    "version": 2
   },
   "file_extension": ".py",
   "mimetype": "text/x-python",
   "name": "python",
   "nbconvert_exporter": "python",
   "pygments_lexer": "ipython2",
   "version": "2.7.6"
  }
 },
 "nbformat": 4,
 "nbformat_minor": 5
}
