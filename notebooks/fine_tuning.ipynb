{
 "cells": [
  {
   "metadata": {},
   "cell_type": "markdown",
   "source": [
    "# Fine-Tuning VGG16 Model\n",
    "\n",
    "This notebook aims to finetune a pretrained VGG16 model by training it further on our specific dataset. The goal is to experiment with various training techniques and hyperparameters to achieve at least 95% performance on the test set. The dataset used consists of images categorized into three classes: pizza, hamburger, and hotdog. We will perform model training, validation, and testing to evaluate and improve the model's performance."
   ],
   "id": "5d1820ac0578e5cb"
  },
  {
   "cell_type": "code",
   "id": "initial_id",
   "metadata": {
    "collapsed": true,
    "ExecuteTime": {
     "end_time": "2024-07-26T13:17:14.683454Z",
     "start_time": "2024-07-26T13:17:14.679541Z"
    }
   },
   "source": [
    "# PyTorch imports   \n",
    "import torch\n",
    "from torch import nn\n",
    "from torch.utils.data import DataLoader\n",
    "import torch.optim as optim\n",
    "from torchvision.models import VGG16_Weights\n",
    "\n",
    "# Torchvision imports\n",
    "from torchvision.datasets import ImageFolder\n",
    "\n",
    "# Project-specific imports\n",
    "from hamburger_hotdog_pizza_classifier.config import PROCESSED_DATA_DIR, MODELS_DIR, BATCH_SIZE, LEARNING_RATE, MOMENTUM, WEIGHT_DECAY\n",
    "from utils import train_validate_model, test_model\n",
    "\n",
    "# Model path definition\n",
    "pretrained_model_path = MODELS_DIR / \"vgg16.pth\"\n",
    "model_save_path = MODELS_DIR / 'fine_tuned_vgg16.pth'\n",
    "\n",
    "# Load hyperparameters\n",
    "batch_size = BATCH_SIZE\n",
    "lr = LEARNING_RATE\n",
    "momentum = MOMENTUM\n",
    "weight_decay = WEIGHT_DECAY\n",
    "\n",
    "print('Imported necessary libraries/variables')"
   ],
   "outputs": [
    {
     "name": "stdout",
     "output_type": "stream",
     "text": [
      "Imported necessary libraries/variables\n"
     ]
    }
   ],
   "execution_count": 7
  },
  {
   "metadata": {
    "ExecuteTime": {
     "end_time": "2024-07-26T13:10:10.676160Z",
     "start_time": "2024-07-26T13:10:10.358873Z"
    }
   },
   "cell_type": "code",
   "source": [
    "# Model loading and evaluation setup\n",
    "model = torch.load(pretrained_model_path)\n",
    "model.eval()\n",
    "\n",
    "# Directory paths\n",
    "image_path = PROCESSED_DATA_DIR / \"pizza_hamburger_hotdog_100_percent\"\n",
    "train_dir = image_path / 'train'\n",
    "test_dir = image_path / 'test'\n",
    "valid_dir = image_path / 'valid'\n",
    "\n",
    "# Data loading parameters\n",
    "weights = VGG16_Weights.DEFAULT\n",
    "transform = weights.transforms()\n",
    "\n",
    "# Data preparation\n",
    "train_data = ImageFolder(train_dir, transform=transform)\n",
    "valid_data = ImageFolder(valid_dir, transform=transform)\n",
    "test_data = ImageFolder(test_dir, transform=transform)\n",
    "\n",
    "# Data loaders\n",
    "train_loader = DataLoader(train_data, batch_size=batch_size, shuffle=True)\n",
    "valid_loader = DataLoader(valid_data, batch_size=batch_size, shuffle=True)\n",
    "test_loader = DataLoader(test_data, batch_size=batch_size, shuffle=False)\n",
    "\n",
    "# Loss function and optimizer setup\n",
    "criterion = nn.CrossEntropyLoss()\n",
    "exp_1_optimizer = optim.SGD(model.parameters(), lr=lr, momentum=momentum) # Optimizer for initial training\n",
    "exp_2_optimizer = optim.SGD(model.parameters(), lr=lr, momentum=momentum, weight_decay=weight_decay) # Optimizer with weight decay\n",
    "\n",
    "# Device setup\n",
    "device = 'cuda' if torch.cuda.is_available() else 'cpu'"
   ],
   "id": "bde51a3d617e9881",
   "outputs": [],
   "execution_count": 2
  },
  {
   "metadata": {},
   "cell_type": "markdown",
   "source": "# Fine tuning ",
   "id": "2a3b18c9c9ab44ba"
  },
  {
   "metadata": {
    "ExecuteTime": {
     "end_time": "2024-07-26T12:52:02.768147Z",
     "start_time": "2024-07-26T12:50:58.562449Z"
    }
   },
   "cell_type": "code",
   "source": "train_validate_model(num_epochs=4, model=model, train_loader=train_loader, valid_loader=valid_loader, criterion=criterion, optimizer=exp_1_optimizer, device=device, model_save_path=model_save_path)",
   "id": "24377ac11ca7b02c",
   "outputs": [
    {
     "name": "stderr",
     "output_type": "stream",
     "text": [
      "Overall Training Progress: 100%|██████████| 4/4 [01:04<00:00, 16.05s/it, Best Val Accuracy=93.11%, Current Train Accuracy=93.70%, Current Val Accuracy=92.00%]\n"
     ]
    }
   ],
   "execution_count": 19
  },
  {
   "metadata": {},
   "cell_type": "markdown",
   "source": "Let's try adding a regularization term, specifically weight decay, to try to improve our model's performance on the validation set and avoid overfitting.",
   "id": "bd43c48743e0b3cd"
  },
  {
   "metadata": {
    "ExecuteTime": {
     "end_time": "2024-07-26T12:55:00.810368Z",
     "start_time": "2024-07-26T12:52:23.646011Z"
    }
   },
   "cell_type": "code",
   "source": "train_validate_model(num_epochs=10, model=model, train_loader=train_loader, valid_loader=valid_loader, criterion=criterion, optimizer=exp_2_optimizer, device=device, model_save_path=model_save_path)",
   "id": "530b12bfd7813ae1",
   "outputs": [
    {
     "name": "stderr",
     "output_type": "stream",
     "text": [
      "Overall Training Progress: 100%|██████████| 10/10 [02:37<00:00, 15.72s/it, Best Val Accuracy=93.44%, Current Train Accuracy=97.93%, Current Val Accuracy=90.89%]\n"
     ]
    }
   ],
   "execution_count": 21
  },
  {
   "metadata": {},
   "cell_type": "markdown",
   "source": [
    "# Testing\n",
    "\n",
    "Testing the model on the test set, we achieve 95% accuracy:\n",
    "\n",
    "This model is renamed as \"final_model.pth\" in the `./models/` folder"
   ],
   "id": "267f5f4eea802646"
  },
  {
   "metadata": {
    "ExecuteTime": {
     "end_time": "2024-07-26T13:10:19.152444Z",
     "start_time": "2024-07-26T13:10:15.141892Z"
    }
   },
   "cell_type": "code",
   "source": [
    "fine_tuned_model_path = MODELS_DIR / \"final_model.pth\"\n",
    "model = torch.load(fine_tuned_model_path)\n",
    "test_model(model=model, test_loader=test_loader, device=device)"
   ],
   "id": "2ffaac0ab0120568",
   "outputs": [
    {
     "name": "stdout",
     "output_type": "stream",
     "text": [
      "Test Accuracy: 95.07%\n"
     ]
    }
   ],
   "execution_count": 3
  }
 ],
 "metadata": {
  "kernelspec": {
   "display_name": "Python 3",
   "language": "python",
   "name": "python3"
  },
  "language_info": {
   "codemirror_mode": {
    "name": "ipython",
    "version": 2
   },
   "file_extension": ".py",
   "mimetype": "text/x-python",
   "name": "python",
   "nbconvert_exporter": "python",
   "pygments_lexer": "ipython2",
   "version": "2.7.6"
  }
 },
 "nbformat": 4,
 "nbformat_minor": 5
}
